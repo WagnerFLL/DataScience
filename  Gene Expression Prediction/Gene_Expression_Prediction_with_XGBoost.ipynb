{
  "nbformat": 4,
  "nbformat_minor": 0,
  "metadata": {
    "colab": {
      "name": "Gene Expression Prediction with XGBoost.ipynb",
      "version": "0.3.2",
      "provenance": []
    },
    "kernelspec": {
      "name": "python3",
      "display_name": "Python 3"
    },
    "accelerator": "GPU"
  },
  "cells": [
    {
      "metadata": {
        "id": "JgY9rikCqaxU",
        "colab_type": "code",
        "colab": {}
      },
      "cell_type": "code",
      "source": [
        "import numpy as np\n",
        "import xgboost as xgb"
      ],
      "execution_count": 0,
      "outputs": []
    },
    {
      "metadata": {
        "id": "P_PFXaf-tNAU",
        "colab_type": "code",
        "outputId": "1bc2754e-acfd-421e-8351-03ede450a752",
        "colab": {
          "base_uri": "https://localhost:8080/",
          "height": 34
        }
      },
      "cell_type": "code",
      "source": [
        "from google.colab import drive\n",
        "drive.mount('/content/gdrive')"
      ],
      "execution_count": 41,
      "outputs": [
        {
          "output_type": "stream",
          "text": [
            "Drive already mounted at /content/gdrive; to attempt to forcibly remount, call drive.mount(\"/content/gdrive\", force_remount=True).\n"
          ],
          "name": "stdout"
        }
      ]
    },
    {
      "metadata": {
        "id": "G_brGScjtosl",
        "colab_type": "code",
        "colab": {}
      },
      "cell_type": "code",
      "source": [
        "X_train = np.loadtxt(\"/content/gdrive/My Drive/Datasets/Gene Expression Prediction/x_train.csv\",delimiter=',',skiprows=1)\n",
        "y_train = np.loadtxt(\"/content/gdrive/My Drive/Datasets/Gene Expression Prediction/y_train.csv\",delimiter=',',skiprows=1)\n",
        "X_test = np.loadtxt(\"/content/gdrive/My Drive/Datasets/Gene Expression Prediction/x_test.csv\",delimiter=',',skiprows=1)\n",
        "\n",
        "X_train =  X_train[:,1:] \n",
        "X_test =  X_test[:,1:]  \n",
        "y_train = y_train[:,1:].ravel()\n",
        "\n",
        "gene_train = X_train.shape[0]/100\n",
        "gene_test = X_test.shape[0]/100\n",
        "\n",
        "\n",
        "X_train = np.split(X_train,gene_train) \n",
        "X_test = np.split(X_test,gene_test) \n",
        "\n",
        "X_train = np.array([x.ravel() for x in X_train])\n",
        "X_test = np.array([x.ravel() for x in X_test])\n",
        "\n",
        "y_train = np.array(y_train)"
      ],
      "execution_count": 0,
      "outputs": []
    },
    {
      "metadata": {
        "id": "NM86MRny29aG",
        "colab_type": "code",
        "colab": {}
      },
      "cell_type": "code",
      "source": [
        "model = xgb.XGBClassifier(max_depth=10, learning_rate=0.1, n_estimators=500, reg_alpha=0.1)\n",
        "model.fit(X_train, y_train)\n",
        "y_pred = model.predict_proba(X_test)\n",
        "\n",
        "y_pred_kaggle = np.array(list(map(lambda x: x[1],y_pred)))\n"
      ],
      "execution_count": 0,
      "outputs": []
    },
    {
      "metadata": {
        "id": "JH9F_8tL2_gs",
        "colab_type": "code",
        "colab": {}
      },
      "cell_type": "code",
      "source": [
        "output_file = \"/content/gdrive/My Drive/Datasets/Gene Expression Prediction/xgb_submission.csv\"\n",
        "\n",
        "geneId=0\n",
        "f = open(output_file,\"w\")\n",
        "f.write(\"GeneId,prediction\")\n",
        "f.write(\"\\n\")\n",
        "for i in y_pred_kaggle:\n",
        "\tgeneId = geneId + 1\n",
        "\tf.write(str(geneId)+\",\"+str(i))\n",
        "\tf.write(\"\\n\")\n",
        "f.close()"
      ],
      "execution_count": 0,
      "outputs": []
    }
  ]
}